{
  "nbformat": 4,
  "nbformat_minor": 0,
  "metadata": {
    "colab": {
      "provenance": []
    },
    "kernelspec": {
      "name": "python3",
      "display_name": "Python 3"
    },
    "language_info": {
      "name": "python"
    }
  },
  "cells": [
    {
      "cell_type": "markdown",
      "source": [
        "# Text Summarisation\n",
        "\n",
        "Recall an earlier notebook where you were given a task to summarise online content and produce a report. We converted an audio file to text. Similarly, we could write a notebook to convert a PDF or Word document to text or Web pages to text. The strategy is to convert everything to text, summarise the text, and use the summary in the final report.\n",
        "\n",
        "# The Challenge\n",
        "\n",
        "Create a project to summarise text and publish the project in Binder.\n",
        "\n",
        "You can choose how to input the text.  Some ideas include pasting it into a string, reading from a file, extract from a PDF or a webpage.\n",
        "\n",
        "It is okay to follow a online tutoirial or youtube video but make sure you have some understanding of what you are doing. You can ask you tutor for help if needed.  They will either help search, or perhaps explain the code in a tutorial.\n",
        "\n",
        "\n",
        "# Task 0 - Initialise a NEW repository\n",
        "\n",
        "We are going to deploy this notebook using Binder.\n",
        "\n",
        "* Initialise a new PUBLIC GitHub repository, say called, text_summariser.\n",
        "* Import this notebook into the new repository\n",
        "\n"
      ],
      "metadata": {
        "id": "SmVEXRTA1wZn"
      }
    },
    {
      "cell_type": "code",
      "source": [
        "pip install beautifulsoup4"
      ],
      "metadata": {
        "id": "48RNuGBQIHQ0",
        "colab": {
          "base_uri": "https://localhost:8080/"
        },
        "outputId": "ee62557b-6218-4299-d1ca-3b6226010d13"
      },
      "execution_count": 1,
      "outputs": [
        {
          "output_type": "stream",
          "name": "stdout",
          "text": [
            "Requirement already satisfied: beautifulsoup4 in /usr/local/lib/python3.10/dist-packages (4.12.3)\n",
            "Requirement already satisfied: soupsieve>1.2 in /usr/local/lib/python3.10/dist-packages (from beautifulsoup4) (2.5)\n"
          ]
        }
      ]
    },
    {
      "cell_type": "markdown",
      "source": [
        "from https://stackoverflow.com/questions/328356/extracting-text-from-html-file-using-python"
      ],
      "metadata": {
        "id": "ekdciYSyY8hs"
      }
    },
    {
      "cell_type": "code",
      "source": [
        "from urllib.request import urlopen\n",
        "from bs4 import BeautifulSoup\n",
        "\n",
        "url = \"https://www.timeout.com/tokyo/restaurants/best-cute-food-desserts-and-drinks-in-tokyo\"\n",
        "html = urlopen(url).read()\n",
        "soup = BeautifulSoup(html, features=\"html.parser\")\n",
        "\n",
        "# kill all script and style elements\n",
        "for script in soup([\"script\", \"style\"]):\n",
        "    script.extract()    # rip it out\n",
        "\n",
        "# get text\n",
        "text = soup.body.get_text()\n",
        "\n",
        "# break into lines and remove leading and trailing space on each\n",
        "lines = (line.strip() for line in text.splitlines())\n",
        "# break multi-headlines into a line each\n",
        "chunks = (phrase.strip() for line in lines for phrase in line.split(\"  \"))\n",
        "# drop blank lines\n",
        "text = '\\n'.join(chunk for chunk in chunks if chunk)\n",
        "text = soup.get_text(separator=' ')\n",
        "\n",
        "\n",
        "article = text\n",
        "\n",
        "print(article)"
      ],
      "metadata": {
        "colab": {
          "base_uri": "https://localhost:8080/"
        },
        "id": "c9WQ2nwVY7Tq",
        "outputId": "9b58f5f5-666d-4e37-f5bd-1f3cd52f06ed"
      },
      "execution_count": 21,
      "outputs": [
        {
          "output_type": "stream",
          "name": "stdout",
          "text": [
            "13 utterly adorable desserts and drinks in Tokyo Go to the content Go to the footer Close Tokyo Things to Do Food & Drink Culture Travel Shopping & Style News Coca-Cola Foodmarks More  Restaurants & Cafes Bars Music & Nightlife Tickets Hotels Neighborhoods LGBT Popular cities  London New York Paris Chicago Los Angeles Lisbon Hong Kong Sydney Melbourne Porto Singapore Barcelona Madrid Montreal Boston Miami JA EN Tokyo Popular cities London New York Paris Chicago Los Angeles Lisbon Hong Kong Sydney Melbourne Porto Singapore Barcelona Madrid Montreal Boston Miami Browse all cities EN 日本語 English Timeout Search Things to Do Food & Drink Culture Travel Shopping & Style News Coca-Cola Foodmarks Separator More Restaurants & Cafes Bars Music & Nightlife Tickets Hotels Neighborhoods LGBT Photo: Butter State Previous Next /3 Photo: Kisa Toyoshima Eiswelt Gelato Previous Next /3 Photo: All Hearts Company Previous Next /3 13 utterly adorable desserts and drinks in Tokyo From 3D latte art and cat-shaped cake to Totoro cream puffs, these tasty treats are just too cute to eat Written by  Kaila Imada Friday 1 October 2021 Facebook Twitter Pinterest Email WhatsApp Advertising \n",
            " Tokyo's filled with decadent sweet shops and dessert cafés, and you're bound to come across the treats of your Instagram dreams. Whether you're looking for a kawaii animal-shaped ice cream to beat the heat or a dainty doughnut to accompany your afternoon latte (topped with a 3D cat made of foam, no less), here are some of the cutest, most charming food, desserts and drinks we’ve found around the city. Be warned though: you may have trouble eating these cute confections as they are just too adorable for you to bite into. \n",
            " Note: these venues might close early depending on the current Covid-19 measures imposed by the authorities. Please check with the individual outlets for the latest business hours. \n",
            " RECOMMENDED: The  best cafés for latte art in Tokyo Too cute to eat © Fujiko-Pro, Shogakukan, TV-Asahi, Shin-ei, and ADK Doraemon Tokyo Banana Shopping Shopping & Style \n",
            " Tokyo Banana has released a special collaboration with everyone’s favourite blue cat-robot to commemorate the 30th anniversary of Tokyo Banana and Doraemon's 50th anniversary. There’s a total of six Doraemon designs on those same fluffy sponge cakes filled with a rich banana custard cream. There is one small but significant difference, though: this version of Tokyo Banana is gluten-free. It's made with rice flour, giving those with wheat intolerance a chance to try out this iconic treat.   ¥291 for a pack of two cakes Read more コージーコーナー Winnie the Pooh cake This adorable cake from  Ginza Cozy Corner  based on Winnie the Pooh features the bear's favourite ingredient: honey. It’s a fluffy sponge cake filled with rich cream laced with chocolate chips and caramel crunch. A yellow honey-flavoured icing covers the entire cake, which adds a gentle, fragrant touch. The cake is 15cm in diameter and will easily feed five to six people.  ¥3,024 Advertising Photo: Budoonoki Animal baumkuchen Shopping Gifts and souvenirs Oshiage Baumkuchen, the German layer cake, is extremely popular in Japan, where you’ll find it in its traditional ring-shaped form, as log-shaped wedges and even in bite-size pieces. The ones at Katanukiya stand out from the crowd, though – they’re shaped into adorable little animals and characters.  \n",
            " Each cake has multiple layers of buttery milk-flavoured cake with a thin layer of icing on the top. The original version is in the shape of a simple black-and-white panda, but the Tokyo Solamachi store has an exclusive version of the panda cake with a yellow star on it.  From  ¥540 Read more Photo: All Hearts Company Cat-shaped shokupan Shopping Bakeries Koto This popular bakery is known for turning out cute cat-shaped loaves of shokupan milk bread that even come in unique, seasonal flavours. The  kawaii  loaves are made from a mixture of domestic wheat flour, cream, honey, and plenty of fresh milk, which makes this bread so moist and fluffy. While stocks last, you can even customise your bread when you purchase the shokupan along with a pouch filled with edible chocolate pens to draw adorable faces on your toast.  Luxury Maneki Neko set ¥1,540 Read more Advertising 白髭のシュークリーム工房（Photo: Kaila Imada） Totoro cream puffs Restaurants Bakeries Daita Styled on Totoro – the beloved character from the Studio Ghibli movie ‘My Neighbour Totoro’ – these charming choux cream pastries are come in seasonal flavours, which range from strawberry to peach and chocolate. It’s almost painful cutting into these cuties as they really do look too good to eat.  From ¥420 Read more Photo: Kisa Toyoshima 3D latte art Restaurants Asakusa As long as there’s steamed milk, latte art master Kohei Matsuno can transform any ordinary coffee into a tiny work of art. So show him a photo of your favourite character or animal and he’ll recreate it on the drink’s surface either as a flat or 3D rendition right in front of your eyes. Otherwise, just opt for the basic latte art and leave it to Matsuno’s imagination. Either way, you won’t be disappointed.  From ¥650 Read more Advertising Photo: Kisa Toyoshima Animal ice cream cones Shopping Harajuku If you're looking kawaii in Tokyo, head on over to Harajuku's Eiwelt Gelato for the most adorable  animal-shaped ice cream in the city . Pick from a tasty zoo of bunnies, pigs or bears where this Los Angeles-born gelateria crafts all of their cuties right in front of your eyes. Quality is not overlooked here as gelato flavours are all homemade using original recipes. You can even look forward to Japan-limited ice cream flavours and characters.  From ¥580 Read more Photo: Kaila Imada Animal doughnuts Restaurants Bakeries Soshigaya-Okura Taking the sweetest thing both figuratively and literally, Floresta’s kawaii doughnuts come in a variety of colours and characters. These ‘guilt-free’ treats are made from organic, domestically produced ingredients. Be warned, you'll need to get there early to baga box - these fly off the shelves pretty quickly.  From ¥389 Read more Advertising Shaun the Sheep cake Restaurants Kichijoji It’s fair to say that the people behind Sunday Brunch in Kichijoji like Shaun The Sheep. You’ll find an entire menu based on this beloved television character here, the highlight of which is possibly the cutest cake ewe will ever see. Covered with numerous sugary sheep staring up at you, its flavour changes with the seasons, but it never looks anything less than amazing.  ¥1,486 per slice Read more みなとや 動物せんべい（Photo: Minatoya; Design: Zineb Bektachi） Animal rice crackers Shopping Bakeries Monzen-Nakacho Minatoya in Monzen-Nakacho has been serving delicious senbei rice crackers for 70 years, with flavours ranging from classics like salt and soy sauce to more experimental options like sweet salty sesame and miso clam.  The shop is most popular for its novelty senbei   that come in different shapes and sizes. You can find rice crackers decorated into animals like cats, dogs, birds and even tigers, as well as holiday-themed ones for Valentine’s Day, Mothers’ Day, New Year and much more.  From ¥200 Read more More great food in Tokyo Photo: Yohei Otobe 8 best patisseries and dessert cafés in Tokyo Restaurants Pâtisseries These cake and dessert shops offer decadent treats from matcha eclairs to shiso mousse cake Read more Photo: Keisuke Tanigawa 12 best fruit sandwiches in Tokyo Restaurants Cafés This typical Japanese treat becomes a beautiful, indulgent dessert at these fruit-centric cafés and bakeries Read more Advertising Photo: instagram.com/path_restaurant The 8 best bakeries in Tokyo Restaurants Bakeries The city’s upper crust: these excellent bread shops and patisseries are definitely worth your dough Read more Recommended Popular on Time Out You may also like You may also like Discover Time Out original video   Advertising Close Time Out Follow us facebook twitter pinterest instagram About us Contact us Terms of use Work for Time Out Time Out Group Advertising Modern slavery statement Manage cookies Time Out Tokyo iPhone app Magazine subscription Digital edition Buy the guide to Tokyo Time Out products Time Out Worldwide Site Map © 2024 Time Out England Limited and affiliated companies owned by Time Out Group Plc. All rights reserved. Time Out is a registered trademark of Time Out Digital Limited.\n"
          ]
        }
      ]
    },
    {
      "cell_type": "markdown",
      "source": [
        "https://www.timeout.com/tokyo/restaurants/best-cute-food-desserts-and-drinks-in-tokyo"
      ],
      "metadata": {
        "id": "p6xX_oStaWJF"
      }
    },
    {
      "cell_type": "code",
      "source": [
        "! pip install transformers"
      ],
      "metadata": {
        "colab": {
          "base_uri": "https://localhost:8080/"
        },
        "id": "NTVawtiDZ4xC",
        "outputId": "f4211ea6-eaec-4dad-c243-356733ea7066"
      },
      "execution_count": 3,
      "outputs": [
        {
          "output_type": "stream",
          "name": "stdout",
          "text": [
            "Requirement already satisfied: transformers in /usr/local/lib/python3.10/dist-packages (4.40.0)\n",
            "Requirement already satisfied: filelock in /usr/local/lib/python3.10/dist-packages (from transformers) (3.13.4)\n",
            "Requirement already satisfied: huggingface-hub<1.0,>=0.19.3 in /usr/local/lib/python3.10/dist-packages (from transformers) (0.20.3)\n",
            "Requirement already satisfied: numpy>=1.17 in /usr/local/lib/python3.10/dist-packages (from transformers) (1.25.2)\n",
            "Requirement already satisfied: packaging>=20.0 in /usr/local/lib/python3.10/dist-packages (from transformers) (24.0)\n",
            "Requirement already satisfied: pyyaml>=5.1 in /usr/local/lib/python3.10/dist-packages (from transformers) (6.0.1)\n",
            "Requirement already satisfied: regex!=2019.12.17 in /usr/local/lib/python3.10/dist-packages (from transformers) (2023.12.25)\n",
            "Requirement already satisfied: requests in /usr/local/lib/python3.10/dist-packages (from transformers) (2.31.0)\n",
            "Requirement already satisfied: tokenizers<0.20,>=0.19 in /usr/local/lib/python3.10/dist-packages (from transformers) (0.19.1)\n",
            "Requirement already satisfied: safetensors>=0.4.1 in /usr/local/lib/python3.10/dist-packages (from transformers) (0.4.3)\n",
            "Requirement already satisfied: tqdm>=4.27 in /usr/local/lib/python3.10/dist-packages (from transformers) (4.66.2)\n",
            "Requirement already satisfied: fsspec>=2023.5.0 in /usr/local/lib/python3.10/dist-packages (from huggingface-hub<1.0,>=0.19.3->transformers) (2023.6.0)\n",
            "Requirement already satisfied: typing-extensions>=3.7.4.3 in /usr/local/lib/python3.10/dist-packages (from huggingface-hub<1.0,>=0.19.3->transformers) (4.11.0)\n",
            "Requirement already satisfied: charset-normalizer<4,>=2 in /usr/local/lib/python3.10/dist-packages (from requests->transformers) (3.3.2)\n",
            "Requirement already satisfied: idna<4,>=2.5 in /usr/local/lib/python3.10/dist-packages (from requests->transformers) (3.7)\n",
            "Requirement already satisfied: urllib3<3,>=1.21.1 in /usr/local/lib/python3.10/dist-packages (from requests->transformers) (2.0.7)\n",
            "Requirement already satisfied: certifi>=2017.4.17 in /usr/local/lib/python3.10/dist-packages (from requests->transformers) (2024.2.2)\n"
          ]
        }
      ]
    },
    {
      "cell_type": "code",
      "source": [
        "from transformers import pipeline"
      ],
      "metadata": {
        "id": "zY_ayJu1Z7rt"
      },
      "execution_count": 4,
      "outputs": []
    },
    {
      "cell_type": "code",
      "source": [
        "summarizer = pipeline('summarization')"
      ],
      "metadata": {
        "colab": {
          "base_uri": "https://localhost:8080/"
        },
        "id": "SubuocDwaAL1",
        "outputId": "9380f2ca-ed9d-4ddb-8791-1aa76922e74f"
      },
      "execution_count": 22,
      "outputs": [
        {
          "output_type": "stream",
          "name": "stderr",
          "text": [
            "No model was supplied, defaulted to sshleifer/distilbart-cnn-12-6 and revision a4f8f3e (https://huggingface.co/sshleifer/distilbart-cnn-12-6).\n",
            "Using a pipeline without specifying a model name and revision in production is not recommended.\n"
          ]
        }
      ]
    },
    {
      "cell_type": "code",
      "source": [
        "article2 = \"\"\"13 utterly adorable desserts and drinks in Tokyo Go to the content Go to the footer Close Tokyo Things to Do Food & Drink Culture Travel Shopping & Style News Coca-Cola Foodmarks More  Restaurants & Cafes Bars Music & Nightlife Tickets Hotels Neighborhoods LGBT Popular cities  London New York Paris Chicago Los Angeles Lisbon Hong Kong Sydney Melbourne Porto Singapore Barcelona Madrid Montreal Boston Miami JA EN Tokyo Popular cities London New York Paris Chicago Los Angeles Lisbon Hong Kong Sydney Melbourne Porto Singapore Barcelona Madrid Montreal Boston Miami Browse all cities EN 日本語 English Timeout Search Things to Do Food & Drink Culture Travel Shopping & Style News Coca-Cola Foodmarks Separator More Restaurants & Cafes Bars Music & Nightlife Tickets Hotels Neighborhoods LGBT Photo: Butter State Previous Next /3 Photo: Kisa Toyoshima Eiswelt Gelato Previous Next /3 Photo: All Hearts Company Previous Next /3 13 utterly adorable desserts and drinks in Tokyo From 3D latte art and cat-shaped cake to Totoro cream puffs, these tasty treats are just too cute to eat Written by  Kaila Imada Friday 1 October 2021 Facebook Twitter Pinterest Email WhatsApp Advertising\n",
        " Tokyo's filled with decadent sweet shops and dessert cafés, and you're bound to come across the treats of your Instagram dreams. Whether you're looking for a kawaii animal-shaped ice cream to beat the heat or a dainty doughnut to accompany your afternoon latte (topped with a 3D cat made of foam, no less), here are some of the cutest, most charming food, desserts and drinks we’ve found around the city. Be warned though: you may have trouble eating these cute confections as they are just too adorable for you to bite into.\n",
        " Note: these venues might close early depending on the current Covid-19 measures imposed by the authorities. Please check with the individual outlets for the latest business hours.\n",
        " RECOMMENDED: The  best cafés for latte art in Tokyo Too cute to eat © Fujiko-Pro, Shogakukan, TV-Asahi, Shin-ei, and ADK Doraemon Tokyo Banana Shopping Shopping & Style\n",
        " Tokyo Banana has released a special collaboration with everyone’s favourite blue cat-robot to commemorate the 30th anniversary of Tokyo Banana and Doraemon's 50th anniversary. There’s a total of six Doraemon designs on those same fluffy sponge cakes filled with a rich banana custard cream. There is one small but significant difference, though: this version of Tokyo Banana is gluten-free. It's made with rice flour, giving those with wheat intolerance a chance to try out this iconic treat.   ¥291 for a pack of two cakes Read more コージーコーナー Winnie the Pooh cake This adorable cake from  Ginza Cozy Corner  based on Winnie the Pooh features the bear's favourite ingredient: honey. It’s a fluffy sponge cake filled with rich cream laced with chocolate chips and caramel crunch. A yellow honey-flavoured icing covers the entire cake, which adds a gentle, fragrant touch. The cake is 15cm in diameter and will easily feed five to six people.  ¥3,024 Advertising Photo: Budoonoki Animal baumkuchen Shopping Gifts and souvenirs Oshiage Baumkuchen, the German layer cake, is extremely popular in Japan, where you’ll find it in its traditional ring-shaped form, as log-shaped wedges and even in bite-size pieces. The ones at Katanukiya stand out from the crowd, though – they’re shaped into adorable little animals and characters.\n",
        " Each cake has multiple layers of buttery milk-flavoured cake with a thin layer of icing on the top. The original version is in the shape of a simple black-and-white panda, but the Tokyo Solamachi store has an exclusive version of the panda cake with a yellow star on it. \"\"\""
      ],
      "metadata": {
        "id": "LUlnZUVybaZ_"
      },
      "execution_count": 24,
      "outputs": []
    },
    {
      "cell_type": "code",
      "source": [
        "summarizer(article2, max_length=130, min_length=30, do_sample=False)"
      ],
      "metadata": {
        "colab": {
          "base_uri": "https://localhost:8080/"
        },
        "id": "ZJbD232taNXf",
        "outputId": "63686498-7e71-4e4a-a086-5cd2d4baec0b"
      },
      "execution_count": 25,
      "outputs": [
        {
          "output_type": "execute_result",
          "data": {
            "text/plain": [
              "[{'summary_text': ' 13 utterly adorable desserts and drinks in Tokyo . From 3D latte art and cat-shaped cake to Totoro cream puffs, these tasty treats are just too cute to eat . Tokyo is filled with decadent sweet shops and dessert cafés .'}]"
            ]
          },
          "metadata": {},
          "execution_count": 25
        }
      ]
    }
  ]
}